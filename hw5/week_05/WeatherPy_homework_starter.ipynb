{
 "cells": [
  {
   "cell_type": "markdown",
   "metadata": {},
   "source": [
    "# Assignment - What's the Weather Like?\n",
    "\n",
    "## Background\n",
    "\n",
    "Whether financial, political, or social -- data's true power lies in its ability to answer questions definitively. So let's take what you've learned about Python requests, APIs, and JSON traversals to answer a fundamental question: \"What's the weather like as we approach the equator?\"\n",
    "\n",
    "Now, we know what you may be thinking: _\"Duh. It gets hotter...\"_\n",
    "\n",
    "But, if pressed, how would you **provide evidence**?\n",
    "\n",
    "## WeatherPy\n",
    "\n",
    "In this example, you'll be creating a Python script to visualize the weather of 500+ cities across the world of varying distance from the equator. To accomplish this, you'll be utilizing a [simple Python library](https://pypi.python.org/pypi/citipy), the [OpenWeatherMap API](https://openweathermap.org/api), and a little common sense to create a representative model of weather across world cities.\n",
    "\n",
    "Your objective is to build a series of scatter plots to showcase the following relationships:\n",
    "\n",
    "* Temperature (F) vs. Latitude\n",
    "* Humidity (%) vs. Latitude\n",
    "* Cloudiness (%) vs. Latitude\n",
    "* Wind Speed (mph) vs. Latitude\n",
    "\n",
    "Your final notebook must:\n",
    "\n",
    "* Randomly select **at least** 500 unique (non-repeat) cities based on latitude and longitude.\n",
    "* Perform a weather check on each of the cities using a series of successive API calls.\n",
    "* OPTIONAL: Include a print log of each city as it's being processed with the city number and city name.\n",
    "* OPTIONAL: Save both a CSV of all data retrieved and png images for each scatter plot.\n",
    "\n",
    "As final considerations:\n",
    "\n",
    "* You must complete your analysis using a Jupyter notebook.\n",
    "* You must use the Matplotlib ,Seaborn or Pandas plotting libraries.\n",
    "* You must include a written description of three observable trends based on the data.\n",
    "* You must use proper labeling of your plots, including aspects like: Plot Titles (with date of analysis) and Axes Labels.\n",
    "\n",
    "## Hints and Considerations\n",
    "\n",
    "* The city data is generated based on random coordinates; as such, your outputs will not be an exact match to the provided starter notebook.\n",
    "\n",
    "* You may want to start this assignment by refreshing yourself on the [geographic coordinate system](http://desktop.arcgis.com/en/arcmap/10.3/guide-books/map-projections/about-geographic-coordinate-systems.htm).\n",
    "\n",
    "* Next, spend the requisite time necessary to study the OpenWeatherMap API. Based on your initial study, you should be able to answer  basic questions about the API: Where do you request the API key? Which Weather API in particular will you need? What URL endpoints does it expect? What JSON structure does it respond with? Before you write a line of code, you should be aiming to have a crystal clear understanding of your intended outcome.\n",
    "\n",
    "* A starter code for Citipy has been provided. However, if you're craving an extra challenge, push yourself to learn how it works: [citipy Python library](https://pypi.python.org/pypi/citipy). \n",
    "\n",
    "* Lastly, remember -- this is a challenging activity. Push yourself! If you complete this task, then you can safely say that you've gained a strong mastery of the core foundations of data analytics and it will only go better from here. Good luck!\n",
    "#### Note\n",
    "* Instructions have been included for each segment. You do not have to follow them exactly, but they are included to help you think through the steps."
   ]
  },
  {
   "cell_type": "code",
   "execution_count": 28,
   "metadata": {
    "scrolled": true
   },
   "outputs": [],
   "source": [
    "# Don't modify this cell.\n",
    "# Dependencies and Setup\n",
    "import matplotlib.pyplot as plt\n",
    "import pandas as pd\n",
    "import numpy as np\n",
    "import requests\n",
    "import time\n",
    "from pprint import pprint\n",
    "\n",
    "# Import API key\n",
    "import api_keys\n",
    "\n",
    "# Incorporated citipy to determine city based on latitude and longitude\n",
    "from citipy import citipy\n",
    "\n",
    "# Range of latitudes and longitudes\n",
    "lat_range = (-90, 90)\n",
    "lng_range = (-180, 180)"
   ]
  },
  {
   "cell_type": "markdown",
   "metadata": {},
   "source": [
    "## Generate Cities List"
   ]
  },
  {
   "cell_type": "code",
   "execution_count": 29,
   "metadata": {},
   "outputs": [
    {
     "data": {
      "text/plain": [
       "603"
      ]
     },
     "execution_count": 29,
     "metadata": {},
     "output_type": "execute_result"
    }
   ],
   "source": [
    "# Don't modify this cell\n",
    "# List for holding lat_lngs and cities\n",
    "lat_lngs = []\n",
    "cities = []\n",
    "\n",
    "# Create a set of random lat and lng combinations\n",
    "lats = np.random.uniform(low=-90.000, high=90.000, size=1500)\n",
    "lngs = np.random.uniform(low=-180.000, high=180.000, size=1500)\n",
    "lat_lngs = zip(lats, lngs)\n",
    "\n",
    "# Identify nearest city for each lat, lng combination\n",
    "for lat_lng in lat_lngs:\n",
    "    city = citipy.nearest_city(lat_lng[0], lat_lng[1]).city_name\n",
    "    \n",
    "    # If the city is unique, then add it to a our cities list\n",
    "    if city not in cities:\n",
    "        cities.append(city)\n",
    "\n",
    "# Print the city count to confirm sufficient count\n",
    "len(cities)"
   ]
  },
  {
   "cell_type": "markdown",
   "metadata": {},
   "source": [
    "A lot of starter code has been generated for you. Use the cell below to play with the data to ensure you know what's happening. "
   ]
  },
  {
   "cell_type": "code",
   "execution_count": null,
   "metadata": {},
   "outputs": [],
   "source": []
  },
  {
   "cell_type": "markdown",
   "metadata": {},
   "source": [
    "### Perform API Calls\n",
    "* Perform a weather check on each city in `cities` using a series of successive API calls.\n",
    "* OPTIONAL: Include a print log of each city as it'sbeing processed (with the city number and city name).\n"
   ]
  },
  {
   "cell_type": "code",
   "execution_count": 30,
   "metadata": {},
   "outputs": [],
   "source": [
    "# OpenWeatherMap API Key\n",
    "api_key = api_keys.api_key\n",
    "\n",
    "# base url for getting api data\n",
    "base_url = \"http://api.openweathermap.org/data/2.5/weather?units=Imperial&APPID=\" + api_key\n",
    "\n",
    "# example request\n",
    "#req = requests.get(base_url + f'&q={cities[0]}').json()\n",
    "\n",
    "# Your code here. A loop maybe? \n",
    "#NOTE: API calls can be slow. They can also be limited. \n",
    "#Once you have a list try not to rerun all API calls very often. \n",
    "\n",
    "weather = []\n",
    "cities = cities[:500]\n",
    "\n",
    "for city in cities: \n",
    "    req = requests.get(base_url + f'&q={city}').json()\n",
    "    time.sleep(1)\n",
    "    \n",
    "    weather.append(req)\n",
    "    \n",
    "    \n",
    "\n"
   ]
  },
  {
   "cell_type": "code",
   "execution_count": 31,
   "metadata": {},
   "outputs": [
    {
     "name": "stdout",
     "output_type": "stream",
     "text": [
      "82.81\n"
     ]
    }
   ],
   "source": [
    "pprint(weather[0]['main']['temp'])"
   ]
  },
  {
   "cell_type": "code",
   "execution_count": 32,
   "metadata": {},
   "outputs": [
    {
     "name": "stdout",
     "output_type": "stream",
     "text": [
      "{'cod': '404', 'message': 'city not found'}\n",
      "{'cod': '404', 'message': 'city not found'}\n",
      "{'cod': '404', 'message': 'city not found'}\n",
      "{'cod': '404', 'message': 'city not found'}\n",
      "{'cod': '404', 'message': 'city not found'}\n",
      "{'cod': '404', 'message': 'city not found'}\n",
      "{'cod': '404', 'message': 'city not found'}\n",
      "{'cod': '404', 'message': 'city not found'}\n",
      "{'cod': '404', 'message': 'city not found'}\n",
      "{'cod': '404', 'message': 'city not found'}\n",
      "{'cod': '404', 'message': 'city not found'}\n",
      "{'cod': '404', 'message': 'city not found'}\n",
      "{'cod': '404', 'message': 'city not found'}\n",
      "{'cod': '404', 'message': 'city not found'}\n",
      "{'cod': '404', 'message': 'city not found'}\n",
      "{'cod': '404', 'message': 'city not found'}\n",
      "{'cod': '404', 'message': 'city not found'}\n",
      "{'cod': '404', 'message': 'city not found'}\n",
      "{'cod': '404', 'message': 'city not found'}\n",
      "{'cod': '404', 'message': 'city not found'}\n",
      "{'cod': '404', 'message': 'city not found'}\n",
      "{'cod': '404', 'message': 'city not found'}\n",
      "{'cod': '404', 'message': 'city not found'}\n",
      "{'cod': '404', 'message': 'city not found'}\n",
      "{'cod': '404', 'message': 'city not found'}\n",
      "{'cod': '404', 'message': 'city not found'}\n",
      "{'cod': '404', 'message': 'city not found'}\n",
      "{'cod': '404', 'message': 'city not found'}\n",
      "{'cod': '404', 'message': 'city not found'}\n",
      "{'cod': '404', 'message': 'city not found'}\n",
      "{'cod': '404', 'message': 'city not found'}\n",
      "{'cod': '404', 'message': 'city not found'}\n",
      "{'cod': '404', 'message': 'city not found'}\n",
      "{'cod': '404', 'message': 'city not found'}\n",
      "{'cod': '404', 'message': 'city not found'}\n"
     ]
    }
   ],
   "source": [
    "my_dict = {'name' : [], 'clouds' : [], 'country': [], 'dt': [], 'humidity' : [], 'lat' : [], 'lon': [],  'temp_max': [] , 'speed' : []} #create dictionary for every variable we are plotting against\n",
    "\n",
    "for i in weather:\n",
    "    if i['cod'] == 200:\n",
    "        my_dict['name'].append(i['name'])\n",
    "        my_dict['clouds'].append(i['clouds']['all'])\n",
    "        my_dict['country'].append(i['sys']['country'])\n",
    "        my_dict['dt'].append(i['dt'])\n",
    "        my_dict['humidity'].append(i['main']['humidity'])\n",
    "        my_dict['lat'].append(i['coord']['lat'])\n",
    "        my_dict['lon'].append(i['coord']['lon'])\n",
    "        my_dict['temp_max'].append(i['main']['temp_max'])\n",
    "        my_dict['speed'].append(i['wind']['speed'])\n",
    "    else:\n",
    "        print(i)\n",
    "    \n"
   ]
  },
  {
   "cell_type": "code",
   "execution_count": 33,
   "metadata": {},
   "outputs": [
    {
     "name": "stdout",
     "output_type": "stream",
     "text": [
      "{'base': 'stations',\n",
      " 'clouds': {'all': 16},\n",
      " 'cod': 200,\n",
      " 'coord': {'lat': -23.12, 'lon': -134.97},\n",
      " 'dt': 1600902864,\n",
      " 'id': 4030556,\n",
      " 'main': {'feels_like': 71.22,\n",
      "          'grnd_level': 1018,\n",
      "          'humidity': 72,\n",
      "          'pressure': 1021,\n",
      "          'sea_level': 1021,\n",
      "          'temp': 72.86,\n",
      "          'temp_max': 72.86,\n",
      "          'temp_min': 72.86},\n",
      " 'name': 'Rikitea',\n",
      " 'sys': {'country': 'PF', 'sunrise': 1600872463, 'sunset': 1600916178},\n",
      " 'timezone': -32400,\n",
      " 'visibility': 10000,\n",
      " 'weather': [{'description': 'few clouds',\n",
      "              'icon': '02d',\n",
      "              'id': 801,\n",
      "              'main': 'Clouds'}],\n",
      " 'wind': {'deg': 74, 'speed': 11.01}}\n"
     ]
    }
   ],
   "source": [
    "pprint(weather[1])"
   ]
  },
  {
   "cell_type": "code",
   "execution_count": 34,
   "metadata": {},
   "outputs": [
    {
     "data": {
      "text/html": [
       "<div>\n",
       "<style scoped>\n",
       "    .dataframe tbody tr th:only-of-type {\n",
       "        vertical-align: middle;\n",
       "    }\n",
       "\n",
       "    .dataframe tbody tr th {\n",
       "        vertical-align: top;\n",
       "    }\n",
       "\n",
       "    .dataframe thead th {\n",
       "        text-align: right;\n",
       "    }\n",
       "</style>\n",
       "<table border=\"1\" class=\"dataframe\">\n",
       "  <thead>\n",
       "    <tr style=\"text-align: right;\">\n",
       "      <th></th>\n",
       "      <th>city</th>\n",
       "      <th>clouds</th>\n",
       "      <th>country</th>\n",
       "      <th>dt</th>\n",
       "      <th>humidity</th>\n",
       "      <th>lat</th>\n",
       "      <th>lon</th>\n",
       "      <th>temp_max</th>\n",
       "      <th>speed</th>\n",
       "    </tr>\n",
       "  </thead>\n",
       "  <tbody>\n",
       "    <tr>\n",
       "      <th>0</th>\n",
       "      <td>Butaritari</td>\n",
       "      <td>100</td>\n",
       "      <td>KI</td>\n",
       "      <td>1600903141</td>\n",
       "      <td>72</td>\n",
       "      <td>3.07</td>\n",
       "      <td>172.79</td>\n",
       "      <td>82.81</td>\n",
       "      <td>14.16</td>\n",
       "    </tr>\n",
       "    <tr>\n",
       "      <th>1</th>\n",
       "      <td>Rikitea</td>\n",
       "      <td>16</td>\n",
       "      <td>PF</td>\n",
       "      <td>1600902864</td>\n",
       "      <td>72</td>\n",
       "      <td>-23.12</td>\n",
       "      <td>-134.97</td>\n",
       "      <td>72.86</td>\n",
       "      <td>11.01</td>\n",
       "    </tr>\n",
       "    <tr>\n",
       "      <th>2</th>\n",
       "      <td>George Town</td>\n",
       "      <td>40</td>\n",
       "      <td>MY</td>\n",
       "      <td>1600903012</td>\n",
       "      <td>94</td>\n",
       "      <td>5.41</td>\n",
       "      <td>100.34</td>\n",
       "      <td>77.00</td>\n",
       "      <td>5.82</td>\n",
       "    </tr>\n",
       "    <tr>\n",
       "      <th>3</th>\n",
       "      <td>Kandrian</td>\n",
       "      <td>0</td>\n",
       "      <td>PG</td>\n",
       "      <td>1600903146</td>\n",
       "      <td>71</td>\n",
       "      <td>-6.22</td>\n",
       "      <td>149.55</td>\n",
       "      <td>83.08</td>\n",
       "      <td>4.92</td>\n",
       "    </tr>\n",
       "    <tr>\n",
       "      <th>4</th>\n",
       "      <td>Castro</td>\n",
       "      <td>19</td>\n",
       "      <td>BR</td>\n",
       "      <td>1600903147</td>\n",
       "      <td>92</td>\n",
       "      <td>-24.79</td>\n",
       "      <td>-50.01</td>\n",
       "      <td>56.10</td>\n",
       "      <td>6.73</td>\n",
       "    </tr>\n",
       "    <tr>\n",
       "      <th>...</th>\n",
       "      <td>...</td>\n",
       "      <td>...</td>\n",
       "      <td>...</td>\n",
       "      <td>...</td>\n",
       "      <td>...</td>\n",
       "      <td>...</td>\n",
       "      <td>...</td>\n",
       "      <td>...</td>\n",
       "      <td>...</td>\n",
       "    </tr>\n",
       "    <tr>\n",
       "      <th>460</th>\n",
       "      <td>Waipawa</td>\n",
       "      <td>3</td>\n",
       "      <td>NZ</td>\n",
       "      <td>1600903784</td>\n",
       "      <td>77</td>\n",
       "      <td>-41.41</td>\n",
       "      <td>175.52</td>\n",
       "      <td>60.80</td>\n",
       "      <td>25.28</td>\n",
       "    </tr>\n",
       "    <tr>\n",
       "      <th>461</th>\n",
       "      <td>Ngunguru</td>\n",
       "      <td>81</td>\n",
       "      <td>NZ</td>\n",
       "      <td>1600903785</td>\n",
       "      <td>79</td>\n",
       "      <td>-35.62</td>\n",
       "      <td>174.50</td>\n",
       "      <td>64.99</td>\n",
       "      <td>10.00</td>\n",
       "    </tr>\n",
       "    <tr>\n",
       "      <th>462</th>\n",
       "      <td>Griffith</td>\n",
       "      <td>1</td>\n",
       "      <td>US</td>\n",
       "      <td>1600903786</td>\n",
       "      <td>53</td>\n",
       "      <td>41.53</td>\n",
       "      <td>-87.42</td>\n",
       "      <td>73.99</td>\n",
       "      <td>5.82</td>\n",
       "    </tr>\n",
       "    <tr>\n",
       "      <th>463</th>\n",
       "      <td>Uturoa</td>\n",
       "      <td>1</td>\n",
       "      <td>PF</td>\n",
       "      <td>1600903787</td>\n",
       "      <td>74</td>\n",
       "      <td>-16.73</td>\n",
       "      <td>-151.43</td>\n",
       "      <td>80.01</td>\n",
       "      <td>16.44</td>\n",
       "    </tr>\n",
       "    <tr>\n",
       "      <th>464</th>\n",
       "      <td>Ha Tinh</td>\n",
       "      <td>100</td>\n",
       "      <td>VN</td>\n",
       "      <td>1600903789</td>\n",
       "      <td>92</td>\n",
       "      <td>18.33</td>\n",
       "      <td>105.90</td>\n",
       "      <td>77.74</td>\n",
       "      <td>2.21</td>\n",
       "    </tr>\n",
       "  </tbody>\n",
       "</table>\n",
       "<p>465 rows × 9 columns</p>\n",
       "</div>"
      ],
      "text/plain": [
       "            city  clouds country          dt  humidity    lat     lon  \\\n",
       "0     Butaritari     100      KI  1600903141        72   3.07  172.79   \n",
       "1        Rikitea      16      PF  1600902864        72 -23.12 -134.97   \n",
       "2    George Town      40      MY  1600903012        94   5.41  100.34   \n",
       "3       Kandrian       0      PG  1600903146        71  -6.22  149.55   \n",
       "4         Castro      19      BR  1600903147        92 -24.79  -50.01   \n",
       "..           ...     ...     ...         ...       ...    ...     ...   \n",
       "460      Waipawa       3      NZ  1600903784        77 -41.41  175.52   \n",
       "461     Ngunguru      81      NZ  1600903785        79 -35.62  174.50   \n",
       "462     Griffith       1      US  1600903786        53  41.53  -87.42   \n",
       "463       Uturoa       1      PF  1600903787        74 -16.73 -151.43   \n",
       "464      Ha Tinh     100      VN  1600903789        92  18.33  105.90   \n",
       "\n",
       "     temp_max  speed  \n",
       "0       82.81  14.16  \n",
       "1       72.86  11.01  \n",
       "2       77.00   5.82  \n",
       "3       83.08   4.92  \n",
       "4       56.10   6.73  \n",
       "..        ...    ...  \n",
       "460     60.80  25.28  \n",
       "461     64.99  10.00  \n",
       "462     73.99   5.82  \n",
       "463     80.01  16.44  \n",
       "464     77.74   2.21  \n",
       "\n",
       "[465 rows x 9 columns]"
      ]
     },
     "execution_count": 34,
     "metadata": {},
     "output_type": "execute_result"
    }
   ],
   "source": [
    "#Convert to csv\n",
    "#export data to csv\n",
    "\n",
    "df_cities_weather= pd.DataFrame(my_dict)\n",
    "\n",
    "\n",
    "df_cities_weather.to_csv('df_cities_weather.csv')\n",
    "\n",
    "cities_weather = pd.read_csv('df_cities_weather.csv')\n",
    "\n",
    "df_cities_weather.rename({'name' : 'city'}, inplace= 1, axis=1)\n",
    "#df_cities_weather['City'] = df_cities_weather['name']\n",
    "#df_cities_weather.drop(['name'], inplace = True, axis = 1)\n",
    "\n",
    "#rankings_pd.rename(columns = {'test':'TEST'}, inplace = True)\n",
    "df_cities_weather\n",
    "\n"
   ]
  },
  {
   "cell_type": "code",
   "execution_count": 35,
   "metadata": {},
   "outputs": [
    {
     "ename": "KeyError",
     "evalue": "'City'",
     "output_type": "error",
     "traceback": [
      "\u001b[0;31m---------------------------------------------------------------------------\u001b[0m",
      "\u001b[0;31mKeyError\u001b[0m                                  Traceback (most recent call last)",
      "\u001b[0;32m/Library/Frameworks/Python.framework/Versions/3.7/lib/python3.7/site-packages/pandas/core/indexes/base.py\u001b[0m in \u001b[0;36mget_loc\u001b[0;34m(self, key, method, tolerance)\u001b[0m\n\u001b[1;32m   2888\u001b[0m             \u001b[0;32mtry\u001b[0m\u001b[0;34m:\u001b[0m\u001b[0;34m\u001b[0m\u001b[0;34m\u001b[0m\u001b[0m\n\u001b[0;32m-> 2889\u001b[0;31m                 \u001b[0;32mreturn\u001b[0m \u001b[0mself\u001b[0m\u001b[0;34m.\u001b[0m\u001b[0m_engine\u001b[0m\u001b[0;34m.\u001b[0m\u001b[0mget_loc\u001b[0m\u001b[0;34m(\u001b[0m\u001b[0mcasted_key\u001b[0m\u001b[0;34m)\u001b[0m\u001b[0;34m\u001b[0m\u001b[0;34m\u001b[0m\u001b[0m\n\u001b[0m\u001b[1;32m   2890\u001b[0m             \u001b[0;32mexcept\u001b[0m \u001b[0mKeyError\u001b[0m \u001b[0;32mas\u001b[0m \u001b[0merr\u001b[0m\u001b[0;34m:\u001b[0m\u001b[0;34m\u001b[0m\u001b[0;34m\u001b[0m\u001b[0m\n",
      "\u001b[0;32mpandas/_libs/index.pyx\u001b[0m in \u001b[0;36mpandas._libs.index.IndexEngine.get_loc\u001b[0;34m()\u001b[0m\n",
      "\u001b[0;32mpandas/_libs/index.pyx\u001b[0m in \u001b[0;36mpandas._libs.index.IndexEngine.get_loc\u001b[0;34m()\u001b[0m\n",
      "\u001b[0;32mpandas/_libs/hashtable_class_helper.pxi\u001b[0m in \u001b[0;36mpandas._libs.hashtable.PyObjectHashTable.get_item\u001b[0;34m()\u001b[0m\n",
      "\u001b[0;32mpandas/_libs/hashtable_class_helper.pxi\u001b[0m in \u001b[0;36mpandas._libs.hashtable.PyObjectHashTable.get_item\u001b[0;34m()\u001b[0m\n",
      "\u001b[0;31mKeyError\u001b[0m: 'City'",
      "\nThe above exception was the direct cause of the following exception:\n",
      "\u001b[0;31mKeyError\u001b[0m                                  Traceback (most recent call last)",
      "\u001b[0;32m<ipython-input-35-32186c770b7f>\u001b[0m in \u001b[0;36m<module>\u001b[0;34m\u001b[0m\n\u001b[1;32m      1\u001b[0m \u001b[0mcities_weather\u001b[0m \u001b[0;34m=\u001b[0m \u001b[0mpd\u001b[0m\u001b[0;34m.\u001b[0m\u001b[0mread_csv\u001b[0m\u001b[0;34m(\u001b[0m\u001b[0;34m'df_cities_weather.csv'\u001b[0m\u001b[0;34m)\u001b[0m\u001b[0;34m\u001b[0m\u001b[0;34m\u001b[0m\u001b[0m\n\u001b[1;32m      2\u001b[0m \u001b[0;34m\u001b[0m\u001b[0m\n\u001b[0;32m----> 3\u001b[0;31m \u001b[0mdf_cities_weather\u001b[0m\u001b[0;34m[\u001b[0m\u001b[0;34m'City'\u001b[0m\u001b[0;34m]\u001b[0m \u001b[0;34m==\u001b[0m \u001b[0mdf_cities_weather\u001b[0m\u001b[0;34m[\u001b[0m\u001b[0;34m'name'\u001b[0m\u001b[0;34m]\u001b[0m\u001b[0;34m\u001b[0m\u001b[0;34m\u001b[0m\u001b[0m\n\u001b[0m\u001b[1;32m      4\u001b[0m \u001b[0;34m\u001b[0m\u001b[0m\n\u001b[1;32m      5\u001b[0m \u001b[0mdf_cities_weather\u001b[0m\u001b[0;34m\u001b[0m\u001b[0;34m\u001b[0m\u001b[0m\n",
      "\u001b[0;32m/Library/Frameworks/Python.framework/Versions/3.7/lib/python3.7/site-packages/pandas/core/frame.py\u001b[0m in \u001b[0;36m__getitem__\u001b[0;34m(self, key)\u001b[0m\n\u001b[1;32m   2900\u001b[0m             \u001b[0;32mif\u001b[0m \u001b[0mself\u001b[0m\u001b[0;34m.\u001b[0m\u001b[0mcolumns\u001b[0m\u001b[0;34m.\u001b[0m\u001b[0mnlevels\u001b[0m \u001b[0;34m>\u001b[0m \u001b[0;36m1\u001b[0m\u001b[0;34m:\u001b[0m\u001b[0;34m\u001b[0m\u001b[0;34m\u001b[0m\u001b[0m\n\u001b[1;32m   2901\u001b[0m                 \u001b[0;32mreturn\u001b[0m \u001b[0mself\u001b[0m\u001b[0;34m.\u001b[0m\u001b[0m_getitem_multilevel\u001b[0m\u001b[0;34m(\u001b[0m\u001b[0mkey\u001b[0m\u001b[0;34m)\u001b[0m\u001b[0;34m\u001b[0m\u001b[0;34m\u001b[0m\u001b[0m\n\u001b[0;32m-> 2902\u001b[0;31m             \u001b[0mindexer\u001b[0m \u001b[0;34m=\u001b[0m \u001b[0mself\u001b[0m\u001b[0;34m.\u001b[0m\u001b[0mcolumns\u001b[0m\u001b[0;34m.\u001b[0m\u001b[0mget_loc\u001b[0m\u001b[0;34m(\u001b[0m\u001b[0mkey\u001b[0m\u001b[0;34m)\u001b[0m\u001b[0;34m\u001b[0m\u001b[0;34m\u001b[0m\u001b[0m\n\u001b[0m\u001b[1;32m   2903\u001b[0m             \u001b[0;32mif\u001b[0m \u001b[0mis_integer\u001b[0m\u001b[0;34m(\u001b[0m\u001b[0mindexer\u001b[0m\u001b[0;34m)\u001b[0m\u001b[0;34m:\u001b[0m\u001b[0;34m\u001b[0m\u001b[0;34m\u001b[0m\u001b[0m\n\u001b[1;32m   2904\u001b[0m                 \u001b[0mindexer\u001b[0m \u001b[0;34m=\u001b[0m \u001b[0;34m[\u001b[0m\u001b[0mindexer\u001b[0m\u001b[0;34m]\u001b[0m\u001b[0;34m\u001b[0m\u001b[0;34m\u001b[0m\u001b[0m\n",
      "\u001b[0;32m/Library/Frameworks/Python.framework/Versions/3.7/lib/python3.7/site-packages/pandas/core/indexes/base.py\u001b[0m in \u001b[0;36mget_loc\u001b[0;34m(self, key, method, tolerance)\u001b[0m\n\u001b[1;32m   2889\u001b[0m                 \u001b[0;32mreturn\u001b[0m \u001b[0mself\u001b[0m\u001b[0;34m.\u001b[0m\u001b[0m_engine\u001b[0m\u001b[0;34m.\u001b[0m\u001b[0mget_loc\u001b[0m\u001b[0;34m(\u001b[0m\u001b[0mcasted_key\u001b[0m\u001b[0;34m)\u001b[0m\u001b[0;34m\u001b[0m\u001b[0;34m\u001b[0m\u001b[0m\n\u001b[1;32m   2890\u001b[0m             \u001b[0;32mexcept\u001b[0m \u001b[0mKeyError\u001b[0m \u001b[0;32mas\u001b[0m \u001b[0merr\u001b[0m\u001b[0;34m:\u001b[0m\u001b[0;34m\u001b[0m\u001b[0;34m\u001b[0m\u001b[0m\n\u001b[0;32m-> 2891\u001b[0;31m                 \u001b[0;32mraise\u001b[0m \u001b[0mKeyError\u001b[0m\u001b[0;34m(\u001b[0m\u001b[0mkey\u001b[0m\u001b[0;34m)\u001b[0m \u001b[0;32mfrom\u001b[0m \u001b[0merr\u001b[0m\u001b[0;34m\u001b[0m\u001b[0;34m\u001b[0m\u001b[0m\n\u001b[0m\u001b[1;32m   2892\u001b[0m \u001b[0;34m\u001b[0m\u001b[0m\n\u001b[1;32m   2893\u001b[0m         \u001b[0;32mif\u001b[0m \u001b[0mtolerance\u001b[0m \u001b[0;32mis\u001b[0m \u001b[0;32mnot\u001b[0m \u001b[0;32mNone\u001b[0m\u001b[0;34m:\u001b[0m\u001b[0;34m\u001b[0m\u001b[0;34m\u001b[0m\u001b[0m\n",
      "\u001b[0;31mKeyError\u001b[0m: 'City'"
     ]
    }
   ],
   "source": [
    "cities_weather = pd.read_csv('df_cities_weather.csv')\n",
    "\n",
    "df_cities_weather['City'] == df_cities_weather['name']\n",
    "\n",
    "df_cities_weather"
   ]
  },
  {
   "cell_type": "code",
   "execution_count": null,
   "metadata": {},
   "outputs": [],
   "source": []
  },
  {
   "cell_type": "markdown",
   "metadata": {},
   "source": [
    "### Plotting the Data\n",
    "* Use proper labeling of the plots using plot titles (including date of analysis) and axes labels.\n",
    "* Use matplotlib\n",
    "* OPTIONAL: Save the plotted figures as .pngs."
   ]
  },
  {
   "cell_type": "markdown",
   "metadata": {},
   "source": [
    "#### Latitude vs. Temperature Plot"
   ]
  },
  {
   "cell_type": "code",
   "execution_count": null,
   "metadata": {},
   "outputs": [],
   "source": [
    "fig, ax = plt.subplots()\n",
    "\n",
    "ax.scatter(my_dict['lat'], my_dict['temp_max'], color = 'hotpink')\n",
    "ax.set_xlabel('Latitude')\n",
    "ax.set_ylabel('Max Temperature (F)')\n",
    "ax.set_title('City Latitude vs. Max Temperature 09/22/2020')\n",
    "ax.grid()\n",
    "plt.show()\n",
    "fig.savefig('lat_temp.png')\n"
   ]
  },
  {
   "cell_type": "code",
   "execution_count": null,
   "metadata": {},
   "outputs": [],
   "source": []
  },
  {
   "cell_type": "code",
   "execution_count": null,
   "metadata": {},
   "outputs": [],
   "source": []
  },
  {
   "cell_type": "markdown",
   "metadata": {},
   "source": [
    "#### Latitude vs. Humidity Plot"
   ]
  },
  {
   "cell_type": "code",
   "execution_count": null,
   "metadata": {},
   "outputs": [],
   "source": [
    "fig, ax = plt.subplots()\n",
    "\n",
    "ax.scatter(my_dict['lat'], my_dict['humidity'], color = 'lightblue')\n",
    "ax.set_xlabel('Latitude')\n",
    "ax.set_ylabel('Humidity (%)')\n",
    "ax.set_title('City Latitude vs.Humidity (09/22/2020)')\n",
    "ax.grid()\n",
    "plt.show()\n",
    "fig.savefig('lat_humidity.png')"
   ]
  },
  {
   "cell_type": "markdown",
   "metadata": {},
   "source": [
    "#### Latitude vs. Cloudiness Plot"
   ]
  },
  {
   "cell_type": "code",
   "execution_count": null,
   "metadata": {},
   "outputs": [],
   "source": [
    "fig, ax = plt.subplots()\n",
    "\n",
    "ax.scatter(my_dict['lat'], my_dict['clouds'], color = 'orange')\n",
    "ax.set_xlabel('Latitude')\n",
    "ax.set_ylabel('Cloudiness (%)')\n",
    "ax.set_title('City Latitude vs. Cloudiness (09/22/2020)')\n",
    "ax.grid()\n",
    "plt.show()\n",
    "fig.savefig('lat_cloudiness.png')"
   ]
  },
  {
   "cell_type": "markdown",
   "metadata": {},
   "source": [
    "#### Latitude vs. Wind Speed Plot"
   ]
  },
  {
   "cell_type": "code",
   "execution_count": null,
   "metadata": {},
   "outputs": [],
   "source": [
    "fig, ax = plt.subplots()\n",
    "\n",
    "ax.scatter(my_dict['lat'], my_dict['speed'], color = 'purple')\n",
    "ax.set_xlabel('Latitude')\n",
    "ax.set_ylabel('Wind Speed (mph)')\n",
    "ax.set(title ='City Latitude vs. Wind Speed (09/22/2020)')\n",
    "ax.grid()\n",
    "plt.show()\n",
    "fig.savefig('lat_windspeed.png')"
   ]
  },
  {
   "cell_type": "code",
   "execution_count": null,
   "metadata": {},
   "outputs": [],
   "source": [
    "fig, ax = plt.subplots()\n",
    "\n",
    "ax.scatter(my_dict['lat'], my_dict['clouds'], color = 'orange')\n",
    "ax.set_xlabel('Latitude')\n",
    "ax.set_ylabel('Cloudiness (%)')\n",
    "ax.set(title ='City Latitude vs. Cloudiness (09/22/2020)')\n",
    "ax.grid()\n",
    "plt.show()"
   ]
  },
  {
   "cell_type": "code",
   "execution_count": null,
   "metadata": {},
   "outputs": [],
   "source": []
  },
  {
   "cell_type": "markdown",
   "metadata": {},
   "source": [
    "### Use the Seaborn library to re-create 2-4 of the above plots. \n",
    "* Use the same data just make a different plot.\n",
    "* Note the differences in amount of code required to generate a similar plot."
   ]
  },
  {
   "cell_type": "code",
   "execution_count": null,
   "metadata": {},
   "outputs": [],
   "source": [
    "import seaborn as sns\n",
    "\n",
    "cloud_lat = sns.scatterplot(x='lat', y='clouds', data=my_dict, hue='clouds')\n",
    "sns.set_style('whitegrid')\n",
    "plt.savefig('lat_clouds_sns.png')\n",
    "cloud_lat.set_title('City Latitude vs. Cloudiness (09/22/2020)')\n",
    "cloud_lat.set(xlabel='Latitude', ylabel='Cloudiness(%)')"
   ]
  },
  {
   "cell_type": "code",
   "execution_count": null,
   "metadata": {},
   "outputs": [],
   "source": [
    "maxtemp_lat = sns.scatterplot(x='lat', y='temp_max', data = my_dict, hue='temp_max')\n",
    "sns.set_style('whitegrid')\n",
    "maxtemp_lat.set_title('City Latitude vs. Max Temperature (09/22/2020)')\n",
    "maxtemp_lat.set(xlabel='Latitude', ylabel='Temperature(F)')\n",
    "plt.savefig('lat_maxtemp_sns.png')"
   ]
  },
  {
   "cell_type": "code",
   "execution_count": null,
   "metadata": {},
   "outputs": [],
   "source": [
    "humidity_lat = sns.scatterplot(x='lat', y='humidity', data=my_dict, hue='humidity')\n",
    "sns.set_style('whitegrid')\n",
    "humidity_lat.set_title('City Latitude vs. Humidity (09/22/2020)')\n",
    "humidity_lat.set(xlabel='Latitude', ylabel='Humidity')\n",
    "plt.savefig('lat_humidity_sns.png')"
   ]
  },
  {
   "cell_type": "code",
   "execution_count": null,
   "metadata": {},
   "outputs": [],
   "source": [
    "speed_lat = sns.scatterplot(x='lat', y='speed', data=my_dict, hue='speed')\n",
    "sns.set_style('whitegrid')\n",
    "speed_lat.set_title('City Latitude vs. Wind Speed (09/22/2020)')\n",
    "speed_lat.set(xlabel='Latitude', ylabel='Wind Speed (mph)')\n",
    "plt.savefig('lat_windspeed_sns.png')"
   ]
  },
  {
   "cell_type": "code",
   "execution_count": null,
   "metadata": {},
   "outputs": [],
   "source": []
  },
  {
   "cell_type": "markdown",
   "metadata": {},
   "source": [
    "### As a Data-Scientist:\n",
    "In addition to generating data, munging data and plotting data you will also be responsible for *interpreting* data. \n",
    "* Provide a written description of three observable trends based on the data."
   ]
  },
  {
   "cell_type": "code",
   "execution_count": null,
   "metadata": {},
   "outputs": [],
   "source": [
    "#Max Temp + Latitude\n",
    "#The temperature is on average is higher near the equator. However, the further north the lower the temperature goes. The temperature reamins similar to each other between -20 to 20 latitude "
   ]
  },
  {
   "cell_type": "code",
   "execution_count": null,
   "metadata": {},
   "outputs": [],
   "source": [
    "#WindSpeed\n",
    "#There is not correlation between wind speed and location\n",
    "\n",
    "#Humidity does not vary much near the equator, but it does vary significantly as you move away from the equator."
   ]
  },
  {
   "cell_type": "markdown",
   "metadata": {},
   "source": [
    "### OPTIONAL Homework Problem: \n",
    "* Use a **different** api endpoint such as `Hourly Forecast 4 days` to get data. \n",
    "* Other weather api endpoints are documented [here](https://openweathermap.org/api). \n",
    "* You will have to change the URL parameters to get the data you want. \n",
    "* Get the data into a data structure of your choice. (Pandas, dicts, lists etc...)\n",
    "* Use the plotting library of your choice to make 1-4 plots of your choice. "
   ]
  },
  {
   "cell_type": "code",
   "execution_count": null,
   "metadata": {},
   "outputs": [],
   "source": []
  }
 ],
 "metadata": {
  "anaconda-cloud": {},
  "kernelspec": {
   "display_name": "Python 3",
   "language": "python",
   "name": "python3"
  },
  "language_info": {
   "codemirror_mode": {
    "name": "ipython",
    "version": 3
   },
   "file_extension": ".py",
   "mimetype": "text/x-python",
   "name": "python",
   "nbconvert_exporter": "python",
   "pygments_lexer": "ipython3",
   "version": "3.7.8"
  }
 },
 "nbformat": 4,
 "nbformat_minor": 4
}
